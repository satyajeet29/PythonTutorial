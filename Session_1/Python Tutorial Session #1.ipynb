{
 "cells": [
  {
   "cell_type": "markdown",
   "metadata": {},
   "source": [
    "## Session #1\n",
    "- Hello World\n",
    "- Declaration of Variables\n",
    "- Arithmetic Operators\n",
    "- Functions\n",
    "- Booleans and Conditionals"
   ]
  },
  {
   "cell_type": "markdown",
   "metadata": {},
   "source": [
    "##### Hello World"
   ]
  },
  {
   "cell_type": "code",
   "execution_count": 1,
   "metadata": {},
   "outputs": [
    {
     "name": "stdout",
     "output_type": "stream",
     "text": [
      "Hello World\n"
     ]
    }
   ],
   "source": [
    "print(\"Hello World\")"
   ]
  },
  {
   "cell_type": "markdown",
   "metadata": {},
   "source": [
    "##### Declaration of Variables"
   ]
  },
  {
   "cell_type": "code",
   "execution_count": 2,
   "metadata": {},
   "outputs": [
    {
     "name": "stdout",
     "output_type": "stream",
     "text": [
      "1\n",
      "3.14\n",
      "Python\n",
      "True\n"
     ]
    }
   ],
   "source": [
    "var1 = 1                 # Declaring an integer\n",
    "var2 = 3.14              # Declaring a float\n",
    "var3 = \"Python\"          # Declaring a string\n",
    "var4 = True              # Declaring a boolean value\n",
    "\n",
    "print(var1)\n",
    "print(var2)\n",
    "print(var3)\n",
    "print(var4)"
   ]
  },
  {
   "cell_type": "code",
   "execution_count": 3,
   "metadata": {},
   "outputs": [
    {
     "name": "stdout",
     "output_type": "stream",
     "text": [
      "var1 data type is <class 'int'>\n",
      "var2 data type is <class 'float'>\n",
      "var3 data type is <class 'str'>\n",
      "var4 data type is <class 'bool'>\n"
     ]
    }
   ],
   "source": [
    "# keyword \"type\" can be used to identify datatype of the variable\n",
    "print(\"var1 data type is {b1}\".format(b1 = type(var1)))\n",
    "print(\"var2 data type is {b1}\".format(b1 = type(var2)))\n",
    "print(\"var3 data type is {b1}\".format(b1 = type(var3)))\n",
    "print(\"var4 data type is {b1}\".format(b1 = type(var4)))"
   ]
  },
  {
   "cell_type": "markdown",
   "metadata": {},
   "source": [
    "##### Arithmetic Operators\n",
    "\n",
    "\n",
    "|Operator|Name|Description|\n",
    "| :-: | :-: | :-: |\n",
    "|a + b\t|Addition\t|Sum of a and b|\n",
    "|a - b\t|Subtraction\t|Difference of a and b|\n",
    "|a * b\t|Multiplication\t|Product of a and b|\n",
    "|a / b\t|True division |Quotient of a and b|\n",
    "|a // b\t|Floor division |Quotient of a and b, removing fractional parts|\n",
    "|a % b\t|Modulus Operator |Returns the remainder after division by a and b|\n",
    "|-a\t|Negation |Returns negative value of A |"
   ]
  },
  {
   "cell_type": "markdown",
   "metadata": {},
   "source": [
    "###### Order of operations\n",
    "The arithmetic we learned in primary school has conventions about the order in which operations are evaluated. Some remember these by a mnemonic such as PEMDAS - Parentheses, Exponents, Multiplication/Division, Addition/Subtraction."
   ]
  },
  {
   "cell_type": "markdown",
   "metadata": {},
   "source": [
    "###### Excercise 1:\n",
    "\n"
   ]
  },
  {
   "cell_type": "code",
   "execution_count": 4,
   "metadata": {},
   "outputs": [
    {
     "name": "stdout",
     "output_type": "stream",
     "text": [
      "Satyajeet\n"
     ]
    }
   ],
   "source": [
    "# Declare a variable to store and print your first name\n",
    "FirstName = \"Satyajeet\"\n",
    "print (FirstName)"
   ]
  },
  {
   "cell_type": "markdown",
   "metadata": {},
   "source": [
    "##### 1. Compute area and perimter of a square with side =  5 units"
   ]
  },
  {
   "cell_type": "code",
   "execution_count": 5,
   "metadata": {},
   "outputs": [
    {
     "name": "stdout",
     "output_type": "stream",
     "text": [
      "Perimeter:  20\n",
      "Area option 1:  25\n",
      "Area option 2:  25\n"
     ]
    }
   ],
   "source": [
    "# Code block\n",
    "side = 5\n",
    "perimeter = side * 4\n",
    "areaOpt1 = side * side # Option 1\n",
    "areaOpt2 = side ** 2 # Option 2\n",
    "\n",
    "print(\"Perimeter: \", perimeter)\n",
    "print(\"Area option 1: \", areaOpt1)\n",
    "print(\"Area option 2: \", areaOpt2)\n",
    "#"
   ]
  },
  {
   "cell_type": "markdown",
   "metadata": {},
   "source": [
    "##### 2. Compute perimeter, area and diagonal of a rectangle with given length and breadth of 4 units and 3 units"
   ]
  },
  {
   "cell_type": "code",
   "execution_count": 6,
   "metadata": {},
   "outputs": [
    {
     "name": "stdout",
     "output_type": "stream",
     "text": [
      "Area:  12\n",
      "Perimeter option 1:  14\n",
      "Perimeter option 2:  14\n",
      "Diagonal:  5.0\n"
     ]
    }
   ],
   "source": [
    "# Code block\n",
    "#\n",
    "length = 4\n",
    "breadth = 3\n",
    "perimeterOpt1 = (length * 2) + (breadth * 2)\n",
    "perimeterOpt2 = (length + breadth) * 2\n",
    "area = length * breadth\n",
    "\n",
    "#Pythagoras theorem: compute diagonal\n",
    "diagonal = (length ** 2  +  breadth**2)**0.5\n",
    "\n",
    "print(\"Area: \", area)\n",
    "print(\"Perimeter option 1: \", perimeterOpt1)\n",
    "print(\"Perimeter option 2: \", perimeterOpt2)\n",
    "print(\"Diagonal: \", diagonal)\n",
    "\n",
    "#"
   ]
  },
  {
   "cell_type": "markdown",
   "metadata": {},
   "source": [
    "##### Functions  & Methods\n",
    "These are set of user defined set of code blocks that can be called multiple times by passing parameters or simply calling them without passing parameters. The syntax for a function is same as method except methods don't return a value/the keyword return isn't used"
   ]
  },
  {
   "cell_type": "code",
   "execution_count": 7,
   "metadata": {},
   "outputs": [],
   "source": [
    "# Example 1<Method>: print first name\n",
    "def printFirstName(Name):\n",
    "    print(Name)\n",
    "# Example 2: Compute sum of two numbers\n",
    "def add(a,b):\n",
    "    return(a+b)"
   ]
  },
  {
   "cell_type": "code",
   "execution_count": 8,
   "metadata": {},
   "outputs": [
    {
     "name": "stdout",
     "output_type": "stream",
     "text": [
      "Satyajeet\n"
     ]
    }
   ],
   "source": [
    "printFirstName(\"Satyajeet\")"
   ]
  },
  {
   "cell_type": "code",
   "execution_count": 9,
   "metadata": {},
   "outputs": [
    {
     "data": {
      "text/plain": [
       "5"
      ]
     },
     "execution_count": 9,
     "metadata": {},
     "output_type": "execute_result"
    }
   ],
   "source": [
    "add(2,3)"
   ]
  },
  {
   "cell_type": "markdown",
   "metadata": {},
   "source": [
    "##### Excercise 2:\n",
    "##### Define a function \"perimeterSquare\" to compute perimeter of a square"
   ]
  },
  {
   "cell_type": "code",
   "execution_count": 10,
   "metadata": {},
   "outputs": [],
   "source": [
    "# Code block\n",
    "#\n",
    "def perimeterSquare(side):\n",
    "    return side*4\n",
    "#"
   ]
  },
  {
   "cell_type": "code",
   "execution_count": 11,
   "metadata": {},
   "outputs": [
    {
     "data": {
      "text/plain": [
       "16"
      ]
     },
     "execution_count": 11,
     "metadata": {},
     "output_type": "execute_result"
    }
   ],
   "source": [
    "perimeterSquare(4)"
   ]
  },
  {
   "cell_type": "code",
   "execution_count": 12,
   "metadata": {},
   "outputs": [
    {
     "data": {
      "text/plain": [
       "28"
      ]
     },
     "execution_count": 12,
     "metadata": {},
     "output_type": "execute_result"
    }
   ],
   "source": [
    "perimeterSquare(7)"
   ]
  },
  {
   "cell_type": "markdown",
   "metadata": {},
   "source": [
    "##### Define a function \"areaSquare\" to compute area of a square"
   ]
  },
  {
   "cell_type": "code",
   "execution_count": 13,
   "metadata": {},
   "outputs": [],
   "source": [
    "# Code block\n",
    "#\n",
    "def areaSquare(side):\n",
    "    return side ** 2\n",
    "#"
   ]
  },
  {
   "cell_type": "code",
   "execution_count": 14,
   "metadata": {},
   "outputs": [
    {
     "data": {
      "text/plain": [
       "25"
      ]
     },
     "execution_count": 14,
     "metadata": {},
     "output_type": "execute_result"
    }
   ],
   "source": [
    "areaSquare(5)"
   ]
  },
  {
   "cell_type": "code",
   "execution_count": 15,
   "metadata": {},
   "outputs": [
    {
     "data": {
      "text/plain": [
       "36"
      ]
     },
     "execution_count": 15,
     "metadata": {},
     "output_type": "execute_result"
    }
   ],
   "source": [
    "areaSquare(6)"
   ]
  },
  {
   "cell_type": "markdown",
   "metadata": {},
   "source": [
    "##### Define a function \"squareDim\" to return perimeter and area"
   ]
  },
  {
   "cell_type": "code",
   "execution_count": 16,
   "metadata": {},
   "outputs": [],
   "source": [
    "# Code block\n",
    "#\n",
    "def squareDim(side):\n",
    "    return side*4, side**2\n",
    "#"
   ]
  },
  {
   "cell_type": "code",
   "execution_count": 17,
   "metadata": {},
   "outputs": [
    {
     "data": {
      "text/plain": [
       "(20, 25)"
      ]
     },
     "execution_count": 17,
     "metadata": {},
     "output_type": "execute_result"
    }
   ],
   "source": [
    "squareDim(5)"
   ]
  },
  {
   "cell_type": "code",
   "execution_count": 18,
   "metadata": {},
   "outputs": [],
   "source": [
    "def squareDim2(side):\n",
    "    return perimeterSquare(side), areaSquare(side)"
   ]
  },
  {
   "cell_type": "code",
   "execution_count": 19,
   "metadata": {},
   "outputs": [
    {
     "data": {
      "text/plain": [
       "(20, 25)"
      ]
     },
     "execution_count": 19,
     "metadata": {},
     "output_type": "execute_result"
    }
   ],
   "source": [
    "squareDim2(5)"
   ]
  },
  {
   "cell_type": "markdown",
   "metadata": {},
   "source": [
    "##### Write a function \"rectangleDim\" to compute perimeter, area and diagonal of a rectangle"
   ]
  },
  {
   "cell_type": "code",
   "execution_count": 20,
   "metadata": {},
   "outputs": [],
   "source": [
    "# Code block\n",
    "#\n",
    "def rectPerimeter(length, breadth):\n",
    "    return (length + breadth) * 2\n",
    "\n",
    "def rectArea(length, breadth):\n",
    "    return length * breadth\n",
    "\n",
    "def rectDiag(length, breadth):\n",
    "    return (length **2 + breadth ** 2)**0.5\n",
    "\n",
    "def rectDim(length, breadth):\n",
    "    return rectPerimeter(length, breadth), rectArea(length, breadth), rectDiag(length, breadth)\n",
    "#"
   ]
  },
  {
   "cell_type": "code",
   "execution_count": 21,
   "metadata": {},
   "outputs": [
    {
     "data": {
      "text/plain": [
       "(14, 12, 5.0)"
      ]
     },
     "execution_count": 21,
     "metadata": {},
     "output_type": "execute_result"
    }
   ],
   "source": [
    "rectDim(4,3)"
   ]
  },
  {
   "cell_type": "markdown",
   "metadata": {},
   "source": [
    "##### Conditional Statements\n",
    "- if then\n",
    "- if then else\n",
    "- if then elif else"
   ]
  },
  {
   "cell_type": "code",
   "execution_count": 22,
   "metadata": {},
   "outputs": [
    {
     "name": "stdout",
     "output_type": "stream",
     "text": [
      " a equals b\n"
     ]
    }
   ],
   "source": [
    "a = 5\n",
    "b = 5\n",
    "if (a == b):\n",
    "    print(\" a equals b\") "
   ]
  },
  {
   "cell_type": "code",
   "execution_count": 23,
   "metadata": {},
   "outputs": [
    {
     "name": "stdout",
     "output_type": "stream",
     "text": [
      " a equals b\n"
     ]
    }
   ],
   "source": [
    "a = \"Hello World\"\n",
    "b = \"Hello World\"\n",
    "if (a == b):\n",
    "    print(\" a equals b\") "
   ]
  },
  {
   "cell_type": "code",
   "execution_count": 24,
   "metadata": {},
   "outputs": [
    {
     "data": {
      "text/plain": [
       "True"
      ]
     },
     "execution_count": 24,
     "metadata": {},
     "output_type": "execute_result"
    }
   ],
   "source": [
    "a == b"
   ]
  },
  {
   "cell_type": "code",
   "execution_count": 25,
   "metadata": {},
   "outputs": [
    {
     "data": {
      "text/plain": [
       "bool"
      ]
     },
     "execution_count": 25,
     "metadata": {},
     "output_type": "execute_result"
    }
   ],
   "source": [
    "type(a==b)"
   ]
  },
  {
   "cell_type": "code",
   "execution_count": 26,
   "metadata": {},
   "outputs": [
    {
     "name": "stdout",
     "output_type": "stream",
     "text": [
      " a smaller than b\n"
     ]
    }
   ],
   "source": [
    "a = 5\n",
    "b = 7\n",
    "if (a > b):\n",
    "    print(\" a greater than b\")\n",
    "else:\n",
    "    print(\" a smaller than b\")"
   ]
  },
  {
   "cell_type": "code",
   "execution_count": 27,
   "metadata": {},
   "outputs": [],
   "source": [
    "def checkX(x):\n",
    "    if x == 0:\n",
    "        print(x, \"is zero\")\n",
    "    elif x > 0:\n",
    "        print(x, \"is positive\")\n",
    "    elif x < 0:\n",
    "        print(x, \"is negative\")\n",
    "    else:\n",
    "        print(x, \"is unlike anything I've ever seen...\")"
   ]
  },
  {
   "cell_type": "code",
   "execution_count": 28,
   "metadata": {},
   "outputs": [
    {
     "name": "stdout",
     "output_type": "stream",
     "text": [
      "5 is positive\n"
     ]
    }
   ],
   "source": [
    "checkX(5)"
   ]
  },
  {
   "cell_type": "code",
   "execution_count": 29,
   "metadata": {},
   "outputs": [],
   "source": [
    "#checkX(\"Hello\")"
   ]
  },
  {
   "cell_type": "code",
   "execution_count": null,
   "metadata": {},
   "outputs": [],
   "source": []
  }
 ],
 "metadata": {
  "kernelspec": {
   "display_name": "Python 3",
   "language": "python",
   "name": "python3"
  },
  "language_info": {
   "codemirror_mode": {
    "name": "ipython",
    "version": 3
   },
   "file_extension": ".py",
   "mimetype": "text/x-python",
   "name": "python",
   "nbconvert_exporter": "python",
   "pygments_lexer": "ipython3",
   "version": "3.6.0b1"
  }
 },
 "nbformat": 4,
 "nbformat_minor": 2
}
