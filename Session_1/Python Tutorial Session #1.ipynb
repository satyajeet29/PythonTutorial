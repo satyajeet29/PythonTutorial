{
 "cells": [
  {
   "cell_type": "markdown",
   "metadata": {},
   "source": [
    "### Session #1\n",
    "- Hello World\n",
    "- Declaration of Variables\n",
    "- Arithmetic Operators\n",
    "- Functions\n",
    "- Booleans and Conditionals"
   ]
  },
  {
   "cell_type": "markdown",
   "metadata": {},
   "source": [
    "##### Hello World"
   ]
  },
  {
   "cell_type": "code",
   "execution_count": 1,
   "metadata": {},
   "outputs": [
    {
     "name": "stdout",
     "output_type": "stream",
     "text": [
      "Hello World\n"
     ]
    }
   ],
   "source": [
    "print(\"Hello World\")"
   ]
  },
  {
   "cell_type": "markdown",
   "metadata": {},
   "source": [
    "##### Declaration of Variables"
   ]
  },
  {
   "cell_type": "code",
   "execution_count": 2,
   "metadata": {},
   "outputs": [
    {
     "name": "stdout",
     "output_type": "stream",
     "text": [
      "1\n",
      "3.14\n",
      "Python\n",
      "True\n"
     ]
    }
   ],
   "source": [
    "var1 = 1                 # Declaring an integer\n",
    "var2 = 3.14              # Declaring a float\n",
    "var3 = \"Python\"          # Declaring a string\n",
    "var4 = True              # Declaring a boolean value\n",
    "\n",
    "print(var1)\n",
    "print(var2)\n",
    "print(var3)\n",
    "print(var4)"
   ]
  },
  {
   "cell_type": "code",
   "execution_count": 3,
   "metadata": {},
   "outputs": [
    {
     "name": "stdout",
     "output_type": "stream",
     "text": [
      "var1 data type is <class 'int'>\n",
      "var2 data type is <class 'float'>\n",
      "var3 data type is <class 'str'>\n",
      "var4 data type is <class 'bool'>\n"
     ]
    }
   ],
   "source": [
    "# keyword \"type\" can be used to identify datatype of the variable\n",
    "print(\"var1 data type is {b1}\".format(b1 = type(var1)))\n",
    "print(\"var2 data type is {b1}\".format(b1 = type(var2)))\n",
    "print(\"var3 data type is {b1}\".format(b1 = type(var3)))\n",
    "print(\"var4 data type is {b1}\".format(b1 = type(var4)))"
   ]
  },
  {
   "cell_type": "markdown",
   "metadata": {},
   "source": [
    "##### Arithmetic Operators\n",
    "\n",
    "\n",
    "|Operator|Name|Description|\n",
    "| :-: | :-: | :-: |\n",
    "|a + b\t|Addition\t|Sum of a and b|\n",
    "|a - b\t|Subtraction\t|Difference of a and b|\n",
    "|a * b\t|Multiplication\t|Product of a and b|\n",
    "|a / b\t|True division |Quotient of a and b|\n",
    "|a // b\t|Floor division |Quotient of a and b, removing fractional parts|\n",
    "|a % b\t|Modulus Operator |Returns the remainder after division by a and b|\n",
    "|a // b\t|Floor division |Quotient of a and b, removing fractional parts|\n",
    "|-a\t|Negation |Returns negative value of A |"
   ]
  },
  {
   "cell_type": "markdown",
   "metadata": {},
   "source": [
    "###### Order of operations\n",
    "The arithmetic we learned in primary school has conventions about the order in which operations are evaluated. Some remember these by a mnemonic such as PEMDAS - Parentheses, Exponents, Multiplication/Division, Addition/Subtraction."
   ]
  },
  {
   "cell_type": "markdown",
   "metadata": {},
   "source": [
    "###### Excercise 1:\n",
    "\n"
   ]
  },
  {
   "cell_type": "code",
   "execution_count": 4,
   "metadata": {},
   "outputs": [
    {
     "name": "stdout",
     "output_type": "stream",
     "text": [
      "Satyajeet\n"
     ]
    }
   ],
   "source": [
    "# Declare a variable to store and print your first name\n",
    "firstName = \"Satyajeet\"\n",
    "print(firstName)"
   ]
  },
  {
   "cell_type": "markdown",
   "metadata": {},
   "source": [
    "##### 1. Compute area and perimter of a square with side =  5 units"
   ]
  },
  {
   "cell_type": "code",
   "execution_count": 5,
   "metadata": {},
   "outputs": [],
   "source": [
    "# Code block\n",
    "#\n",
    "\n",
    "#"
   ]
  },
  {
   "cell_type": "markdown",
   "metadata": {},
   "source": [
    "##### 2. Compute perimeter, area and diagonal of a rectangle with given length and breadth of 4 units and 3 units"
   ]
  },
  {
   "cell_type": "code",
   "execution_count": 6,
   "metadata": {},
   "outputs": [],
   "source": [
    "# Code block\n",
    "#\n",
    "\n",
    "#"
   ]
  },
  {
   "cell_type": "markdown",
   "metadata": {},
   "source": [
    "##### Functions  & Methods\n",
    "These are set of user defined set of code blocks that can be called multiple times by passing parameters or simply calling them without passing parameters. The syntax for a function is same as method except methods don't return a value/the keyword return isn't used"
   ]
  },
  {
   "cell_type": "code",
   "execution_count": 7,
   "metadata": {},
   "outputs": [],
   "source": [
    "# Example 1<Method>: print first name\n",
    "def printFirstName(Name):\n",
    "    print(Name)\n",
    "# Example 2: Compute sum of two numbers\n",
    "def add(a,b):\n",
    "    return(a+b)"
   ]
  },
  {
   "cell_type": "code",
   "execution_count": 8,
   "metadata": {},
   "outputs": [
    {
     "name": "stdout",
     "output_type": "stream",
     "text": [
      "Satyajeet\n"
     ]
    }
   ],
   "source": [
    "printFirstName(\"Satyajeet\")"
   ]
  },
  {
   "cell_type": "code",
   "execution_count": 9,
   "metadata": {},
   "outputs": [
    {
     "data": {
      "text/plain": [
       "5"
      ]
     },
     "execution_count": 9,
     "metadata": {},
     "output_type": "execute_result"
    }
   ],
   "source": [
    "add(2,3)"
   ]
  },
  {
   "cell_type": "markdown",
   "metadata": {},
   "source": [
    "##### Excercise 2:\n",
    "##### Define a function \"perimeterSquare\" to compute perimeter of a square"
   ]
  },
  {
   "cell_type": "code",
   "execution_count": 10,
   "metadata": {},
   "outputs": [],
   "source": [
    "# Code block\n",
    "#\n",
    "\n",
    "#"
   ]
  },
  {
   "cell_type": "markdown",
   "metadata": {},
   "source": [
    "##### Define a function \"areaSquare\" to compute area of a square"
   ]
  },
  {
   "cell_type": "code",
   "execution_count": 11,
   "metadata": {},
   "outputs": [],
   "source": [
    "# Code block\n",
    "#\n",
    "\n",
    "#"
   ]
  },
  {
   "cell_type": "markdown",
   "metadata": {},
   "source": [
    "##### Define a function \"squareDim\" to return perimeter and area"
   ]
  },
  {
   "cell_type": "code",
   "execution_count": 12,
   "metadata": {},
   "outputs": [],
   "source": [
    "# Code block\n",
    "#\n",
    "\n",
    "#"
   ]
  },
  {
   "cell_type": "markdown",
   "metadata": {},
   "source": [
    "##### Write a function \"rectangleDim\" to compute perimeter, area and diagonal of a rectangle"
   ]
  },
  {
   "cell_type": "code",
   "execution_count": 13,
   "metadata": {},
   "outputs": [],
   "source": [
    "# Code block\n",
    "#\n",
    "\n",
    "#"
   ]
  },
  {
   "cell_type": "markdown",
   "metadata": {},
   "source": [
    "##### Conditional Statements\n",
    "- if then\n",
    "- if then else\n",
    "- if then elif else"
   ]
  },
  {
   "cell_type": "code",
   "execution_count": 14,
   "metadata": {},
   "outputs": [
    {
     "name": "stdout",
     "output_type": "stream",
     "text": [
      " a equals b\n"
     ]
    }
   ],
   "source": [
    "a = 5\n",
    "b = 5\n",
    "if (a == b):\n",
    "    print(\" a equals b\") "
   ]
  },
  {
   "cell_type": "code",
   "execution_count": 15,
   "metadata": {},
   "outputs": [
    {
     "name": "stdout",
     "output_type": "stream",
     "text": [
      " a smaller than b\n"
     ]
    }
   ],
   "source": [
    "a = 5\n",
    "b = 7\n",
    "if (a > b):\n",
    "    print(\" a greater than b\")\n",
    "else:\n",
    "    print(\" a smaller than b\")"
   ]
  },
  {
   "cell_type": "code",
   "execution_count": 16,
   "metadata": {},
   "outputs": [],
   "source": [
    "def checkX(x):\n",
    "    if x == 0:\n",
    "        print(x, \"is zero\")\n",
    "    elif x > 0:\n",
    "        print(x, \"is positive\")\n",
    "    elif x < 0:\n",
    "        print(x, \"is negative\")\n",
    "    else:\n",
    "        print(x, \"is unlike anything I've ever seen...\")"
   ]
  },
  {
   "cell_type": "code",
   "execution_count": 17,
   "metadata": {},
   "outputs": [
    {
     "name": "stdout",
     "output_type": "stream",
     "text": [
      "5 is positive\n"
     ]
    }
   ],
   "source": [
    "checkX(5)"
   ]
  },
  {
   "cell_type": "code",
   "execution_count": null,
   "metadata": {},
   "outputs": [],
   "source": []
  }
 ],
 "metadata": {
  "kernelspec": {
   "display_name": "Python 3",
   "language": "python",
   "name": "python3"
  },
  "language_info": {
   "codemirror_mode": {
    "name": "ipython",
    "version": 3
   },
   "file_extension": ".py",
   "mimetype": "text/x-python",
   "name": "python",
   "nbconvert_exporter": "python",
   "pygments_lexer": "ipython3",
   "version": "3.6.0b1"
  }
 },
 "nbformat": 4,
 "nbformat_minor": 2
}
