{
 "cells": [
  {
   "cell_type": "markdown",
   "metadata": {},
   "source": [
    "## Session #2\n",
    "- Loops\n",
    "- Sequences"
   ]
  },
  {
   "cell_type": "markdown",
   "metadata": {},
   "source": [
    "###### Input Example"
   ]
  },
  {
   "cell_type": "code",
   "execution_count": 2,
   "metadata": {},
   "outputs": [
    {
     "name": "stdout",
     "output_type": "stream",
     "text": [
      "Enter your name:\n",
      "Satyajeet\n",
      "Hello, Satyajeet\n"
     ]
    }
   ],
   "source": [
    "print('Enter your name:')\n",
    "x = input()\n",
    "print('Hello, ' + x)"
   ]
  },
  {
   "cell_type": "code",
   "execution_count": 3,
   "metadata": {},
   "outputs": [
    {
     "name": "stdout",
     "output_type": "stream",
     "text": [
      "Wish you friend (Hello):\n",
      "Hello\n",
      "How are you\n"
     ]
    }
   ],
   "source": [
    "print('Wish you friend (Hello):')\n",
    "x = input()\n",
    "if(x == \"Hello\"):\n",
    "    print(\"How are you\")\n",
    "else:\n",
    "    print(\"Wish Properly\")"
   ]
  },
  {
   "cell_type": "code",
   "execution_count": 4,
   "metadata": {},
   "outputs": [
    {
     "name": "stdout",
     "output_type": "stream",
     "text": [
      "Wish you friend:\n",
      "hello\n",
      "How are you\n"
     ]
    }
   ],
   "source": [
    "print('Wish you friend:')\n",
    "x = input()\n",
    "if(x.lower() == \"hello\"):\n",
    "    print(\"How are you\")\n",
    "else:\n",
    "    print(\"Wish Properly\")"
   ]
  },
  {
   "cell_type": "markdown",
   "metadata": {},
   "source": [
    "#### Loops\n",
    "- For Loop\n",
    "- While Loop"
   ]
  },
  {
   "cell_type": "markdown",
   "metadata": {},
   "source": [
    "###### For Loop"
   ]
  },
  {
   "cell_type": "code",
   "execution_count": 5,
   "metadata": {},
   "outputs": [
    {
     "name": "stdout",
     "output_type": "stream",
     "text": [
      "Doing important work. i =0\n",
      "Doing important work. i =1\n",
      "Doing important work. i =2\n",
      "Doing important work. i =3\n",
      "Doing important work. i =4\n"
     ]
    }
   ],
   "source": [
    "for i in range(5):\n",
    "    print(\"Doing important work. i ={b1}\".format(b1 = i))\n",
    "    \n",
    "# Note: focus on range function"
   ]
  },
  {
   "cell_type": "markdown",
   "metadata": {},
   "source": [
    "###### Do While Loop"
   ]
  },
  {
   "cell_type": "code",
   "execution_count": 6,
   "metadata": {},
   "outputs": [
    {
     "name": "stdout",
     "output_type": "stream",
     "text": [
      "0 1 2 3 4 5 6 7 8 9 "
     ]
    }
   ],
   "source": [
    "i = 0\n",
    "while i < 10:\n",
    "    print(i, end=' ')\n",
    "    i += 1 # increase the value of i by 1"
   ]
  },
  {
   "cell_type": "markdown",
   "metadata": {},
   "source": [
    "###### Excercise 1: Define a function that returns the factorial of a given number\n",
    "###### Factorial for #10 =  10 x 9 x 8 x 7 x 6 x 5 x 4 x 3 x 2 x 1\n",
    "#6 = 1 x 2 x 3 x 4 x 5 x 6 \n",
    "#8 = 1 x 2 x 3 x 4 x 5 x 6 x 7 x 8"
   ]
  },
  {
   "cell_type": "code",
   "execution_count": 7,
   "metadata": {},
   "outputs": [],
   "source": [
    "def factorial(x):\n",
    "    #Complete the code\n",
    "    product = 1\n",
    "    for i in range (1,x+1):\n",
    "        product = product * i\n",
    "    return product"
   ]
  },
  {
   "cell_type": "code",
   "execution_count": 8,
   "metadata": {},
   "outputs": [],
   "source": [
    "def factorialWhile(x):\n",
    "    y = 1\n",
    "    product = 1\n",
    "    while y <= x:\n",
    "        product = product * y\n",
    "        y+=1\n",
    "    return product"
   ]
  },
  {
   "cell_type": "code",
   "execution_count": 9,
   "metadata": {},
   "outputs": [
    {
     "data": {
      "text/plain": [
       "5040"
      ]
     },
     "execution_count": 9,
     "metadata": {},
     "output_type": "execute_result"
    }
   ],
   "source": [
    "factorialWhile(7)"
   ]
  },
  {
   "cell_type": "markdown",
   "metadata": {},
   "source": [
    "###### New Concept Recursion"
   ]
  },
  {
   "cell_type": "code",
   "execution_count": 11,
   "metadata": {},
   "outputs": [
    {
     "data": {
      "text/plain": [
       "720"
      ]
     },
     "execution_count": 11,
     "metadata": {},
     "output_type": "execute_result"
    }
   ],
   "source": [
    "def factorialRecursion(k):\n",
    "    if(k>=1):\n",
    "        result = k*factorialRecursion(k-1)\n",
    "    else:\n",
    "        result = 1\n",
    "    return result\n",
    "\n",
    "factorialRecursion(6)"
   ]
  },
  {
   "cell_type": "markdown",
   "metadata": {},
   "source": [
    "##### Excercise 2: Function to compute GCF of two numbers"
   ]
  },
  {
   "cell_type": "code",
   "execution_count": 12,
   "metadata": {},
   "outputs": [],
   "source": [
    "# Option 1:\n",
    "def GCF(x1, x2):\n",
    "    #Complete the code\n",
    "    #Compute minimum\n",
    "    cMIN = min(x1,x2)\n",
    "    i = cMIN\n",
    "    while (i <= cMIN and  x1%i != 0 or x2%i != 0):\n",
    "        i += -1\n",
    "    if(i==1):\n",
    "        print(\"GCF Doesn't Exist\")\n",
    "    else:\n",
    "        return i"
   ]
  },
  {
   "cell_type": "code",
   "execution_count": 13,
   "metadata": {},
   "outputs": [
    {
     "data": {
      "text/plain": [
       "12"
      ]
     },
     "execution_count": 13,
     "metadata": {},
     "output_type": "execute_result"
    }
   ],
   "source": [
    "GCF(24,12)"
   ]
  },
  {
   "cell_type": "code",
   "execution_count": null,
   "metadata": {},
   "outputs": [],
   "source": []
  }
 ],
 "metadata": {
  "kernelspec": {
   "display_name": "Python 3",
   "language": "python",
   "name": "python3"
  },
  "language_info": {
   "codemirror_mode": {
    "name": "ipython",
    "version": 3
   },
   "file_extension": ".py",
   "mimetype": "text/x-python",
   "name": "python",
   "nbconvert_exporter": "python",
   "pygments_lexer": "ipython3",
   "version": "3.6.0b1"
  }
 },
 "nbformat": 4,
 "nbformat_minor": 2
}
